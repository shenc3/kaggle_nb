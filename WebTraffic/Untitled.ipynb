{
 "cells": [
  {
   "cell_type": "code",
   "execution_count": 3,
   "metadata": {
    "collapsed": true
   },
   "outputs": [],
   "source": [
    "import numpy as np # linear algebra\n",
    "import pandas as pd # data processing, CSV file I/O (e.g. pd.read_csv)\n",
    "import matplotlib.pyplot as plt\n",
    "import seaborn as sns\n",
    "import math\n",
    "import os\n",
    "\n",
    "%matplotlib inline"
   ]
  },
  {
   "cell_type": "code",
   "execution_count": 4,
   "metadata": {},
   "outputs": [],
   "source": [
    "# Load the data\n",
    "DIR = 'D:\\PlayGround\\kaggle\\WebTraffic'\n",
    "train = pd.read_csv(os.path.join(DIR, \"train_1.csv\"))\n",
    "keys = pd.read_csv(os.path.join(DIR, \"key_1.csv\"))\n",
    "# ss = pd.read_csv(os.path.join(DIR, \"sample_submission_1.csv\"))"
   ]
  },
  {
   "cell_type": "code",
   "execution_count": 5,
   "metadata": {
    "collapsed": true
   },
   "outputs": [],
   "source": [
    "del keys"
   ]
  },
  {
   "cell_type": "code",
   "execution_count": 6,
   "metadata": {},
   "outputs": [
    {
     "name": "stdout",
     "output_type": "stream",
     "text": [
      "<class 'pandas.core.frame.DataFrame'>\n",
      "RangeIndex: 145063 entries, 0 to 145062\n",
      "Columns: 551 entries, Page to 2016-12-31\n",
      "dtypes: float64(550), object(1)\n",
      "memory usage: 609.8+ MB\n"
     ]
    }
   ],
   "source": [
    "train.info()"
   ]
  },
  {
   "cell_type": "markdown",
   "metadata": {},
   "source": [
    "## 2. Data transformation and helper functions\n",
    "### A. Article names and metadata"
   ]
  },
  {
   "cell_type": "code",
   "execution_count": 7,
   "metadata": {},
   "outputs": [
    {
     "name": "stdout",
     "output_type": "stream",
     "text": [
      "('Рудова,_Наталья_Александровна', 'ru', 'all-access', 'spider')\n",
      "('台灣災難列表', 'zh', 'all-access', 'spider')\n",
      "('', '', '', '')\n"
     ]
    }
   ],
   "source": [
    "import re\n",
    "\n",
    "def breakdown_topic(str):\n",
    "    m = re.search('(.*)\\_(.*).wikipedia.org\\_(.*)\\_(.*)', str)\n",
    "    if m is not None:\n",
    "        return m.group(1), m.group(2), m.group(3), m.group(4)\n",
    "    else:\n",
    "        return \"\", \"\", \"\", \"\"\n",
    "\n",
    "print(breakdown_topic(\"Рудова,_Наталья_Александровна_ru.wikipedia.org_all-access_spider\"))\n",
    "print(breakdown_topic(\"台灣災難列表_zh.wikipedia.org_all-access_spider\"))\n",
    "print(breakdown_topic(\"File:Memphis_Blues_Tour_2010.jpg_commons.wikimedia.org_mobile-web_all-agents\"))"
   ]
  },
  {
   "cell_type": "code",
   "execution_count": 8,
   "metadata": {},
   "outputs": [
    {
     "name": "stderr",
     "output_type": "stream",
     "text": [
      "C:\\Users\\shenchen3\\AppData\\Local\\Continuum\\Anaconda3\\lib\\site-packages\\ipykernel\\__main__.py:1: FutureWarning: currently extract(expand=None) means expand=False (return Index/Series/DataFrame) but in a future version of pandas this will be changed to expand=True (return DataFrame)\n",
      "  if __name__ == '__main__':\n"
     ]
    },
    {
     "data": {
      "text/html": [
       "<div>\n",
       "<style>\n",
       "    .dataframe thead tr:only-child th {\n",
       "        text-align: right;\n",
       "    }\n",
       "\n",
       "    .dataframe thead th {\n",
       "        text-align: left;\n",
       "    }\n",
       "\n",
       "    .dataframe tbody tr th {\n",
       "        vertical-align: top;\n",
       "    }\n",
       "</style>\n",
       "<table border=\"1\" class=\"dataframe\">\n",
       "  <thead>\n",
       "    <tr style=\"text-align: right;\">\n",
       "      <th></th>\n",
       "      <th>topic</th>\n",
       "      <th>lang</th>\n",
       "      <th>access</th>\n",
       "      <th>type</th>\n",
       "    </tr>\n",
       "  </thead>\n",
       "  <tbody>\n",
       "    <tr>\n",
       "      <th>0</th>\n",
       "      <td>2NE1</td>\n",
       "      <td>zh</td>\n",
       "      <td>all-access</td>\n",
       "      <td>spider</td>\n",
       "    </tr>\n",
       "    <tr>\n",
       "      <th>1</th>\n",
       "      <td>2PM</td>\n",
       "      <td>zh</td>\n",
       "      <td>all-access</td>\n",
       "      <td>spider</td>\n",
       "    </tr>\n",
       "    <tr>\n",
       "      <th>2</th>\n",
       "      <td>3C</td>\n",
       "      <td>zh</td>\n",
       "      <td>all-access</td>\n",
       "      <td>spider</td>\n",
       "    </tr>\n",
       "    <tr>\n",
       "      <th>3</th>\n",
       "      <td>4minute</td>\n",
       "      <td>zh</td>\n",
       "      <td>all-access</td>\n",
       "      <td>spider</td>\n",
       "    </tr>\n",
       "    <tr>\n",
       "      <th>4</th>\n",
       "      <td>52_Hz_I_Love_You</td>\n",
       "      <td>zh</td>\n",
       "      <td>all-access</td>\n",
       "      <td>spider</td>\n",
       "    </tr>\n",
       "    <tr>\n",
       "      <th>5</th>\n",
       "      <td>5566</td>\n",
       "      <td>zh</td>\n",
       "      <td>all-access</td>\n",
       "      <td>spider</td>\n",
       "    </tr>\n",
       "    <tr>\n",
       "      <th>6</th>\n",
       "      <td>91Days</td>\n",
       "      <td>zh</td>\n",
       "      <td>all-access</td>\n",
       "      <td>spider</td>\n",
       "    </tr>\n",
       "    <tr>\n",
       "      <th>7</th>\n",
       "      <td>A'N'D</td>\n",
       "      <td>zh</td>\n",
       "      <td>all-access</td>\n",
       "      <td>spider</td>\n",
       "    </tr>\n",
       "    <tr>\n",
       "      <th>8</th>\n",
       "      <td>AKB48</td>\n",
       "      <td>zh</td>\n",
       "      <td>all-access</td>\n",
       "      <td>spider</td>\n",
       "    </tr>\n",
       "    <tr>\n",
       "      <th>9</th>\n",
       "      <td>ASCII</td>\n",
       "      <td>zh</td>\n",
       "      <td>all-access</td>\n",
       "      <td>spider</td>\n",
       "    </tr>\n",
       "  </tbody>\n",
       "</table>\n",
       "</div>"
      ],
      "text/plain": [
       "              topic lang      access    type\n",
       "0              2NE1   zh  all-access  spider\n",
       "1               2PM   zh  all-access  spider\n",
       "2                3C   zh  all-access  spider\n",
       "3           4minute   zh  all-access  spider\n",
       "4  52_Hz_I_Love_You   zh  all-access  spider\n",
       "5              5566   zh  all-access  spider\n",
       "6            91Days   zh  all-access  spider\n",
       "7             A'N'D   zh  all-access  spider\n",
       "8             AKB48   zh  all-access  spider\n",
       "9             ASCII   zh  all-access  spider"
      ]
     },
     "execution_count": 8,
     "metadata": {},
     "output_type": "execute_result"
    }
   ],
   "source": [
    "page_details = train.Page.str.extract(r'(?P<topic>.*)\\_(?P<lang>.*).wikipedia.org\\_(?P<access>.*)\\_(?P<type>.*)')\n",
    "\n",
    "page_details[0:10]"
   ]
  },
  {
   "cell_type": "markdown",
   "metadata": {},
   "source": [
    "###  B. Split into train and validation dataset"
   ]
  },
  {
   "cell_type": "code",
   "execution_count": 9,
   "metadata": {},
   "outputs": [
    {
     "name": "stdout",
     "output_type": "stream",
     "text": [
      "The training set sample:\n",
      "              topic lang      access    type  \\\n",
      "0              2NE1   zh  all-access  spider   \n",
      "1               2PM   zh  all-access  spider   \n",
      "2                3C   zh  all-access  spider   \n",
      "3           4minute   zh  all-access  spider   \n",
      "4  52_Hz_I_Love_You   zh  all-access  spider   \n",
      "5              5566   zh  all-access  spider   \n",
      "6            91Days   zh  all-access  spider   \n",
      "7             A'N'D   zh  all-access  spider   \n",
      "8             AKB48   zh  all-access  spider   \n",
      "9             ASCII   zh  all-access  spider   \n",
      "\n",
      "                                                Page  2015-07-01  2015-07-02  \\\n",
      "0            2NE1_zh.wikipedia.org_all-access_spider        18.0        11.0   \n",
      "1             2PM_zh.wikipedia.org_all-access_spider        11.0        14.0   \n",
      "2              3C_zh.wikipedia.org_all-access_spider         1.0         0.0   \n",
      "3         4minute_zh.wikipedia.org_all-access_spider        35.0        13.0   \n",
      "4  52_Hz_I_Love_You_zh.wikipedia.org_all-access_s...         NaN         NaN   \n",
      "5            5566_zh.wikipedia.org_all-access_spider        12.0         7.0   \n",
      "6          91Days_zh.wikipedia.org_all-access_spider         NaN         NaN   \n",
      "7           A'N'D_zh.wikipedia.org_all-access_spider       118.0        26.0   \n",
      "8           AKB48_zh.wikipedia.org_all-access_spider         5.0        23.0   \n",
      "9           ASCII_zh.wikipedia.org_all-access_spider         6.0         3.0   \n",
      "\n",
      "   2015-07-03  2015-07-04  2015-07-05     ...      2016-10-23  2016-10-24  \\\n",
      "0         5.0        13.0        14.0     ...            26.0        25.0   \n",
      "1        15.0        18.0        11.0     ...            25.0        19.0   \n",
      "2         1.0         1.0         0.0     ...             6.0         5.0   \n",
      "3        10.0        94.0         4.0     ...             9.0        13.0   \n",
      "4         NaN         NaN         NaN     ...             6.0         6.0   \n",
      "5         4.0         5.0        20.0     ...            27.0        32.0   \n",
      "6         NaN         NaN         NaN     ...             8.0        47.0   \n",
      "7        30.0        24.0        29.0     ...            89.0        83.0   \n",
      "8        14.0        12.0         9.0     ...            19.0        35.0   \n",
      "9         5.0        12.0         6.0     ...            25.0        28.0   \n",
      "\n",
      "   2016-10-25  2016-10-26  2016-10-27  2016-10-28  2016-10-29  2016-10-30  \\\n",
      "0        16.0        19.0        20.0        12.0        19.0        50.0   \n",
      "1        15.0        21.0        21.0        27.0        33.0        15.0   \n",
      "2         5.0         2.0         3.0         3.0         2.0         2.0   \n",
      "3        21.0        13.0        10.0        21.0        15.0       103.0   \n",
      "4         4.0       173.0         5.0        10.0        10.0        18.0   \n",
      "5        27.0        25.0        15.0        15.0        19.0       102.0   \n",
      "6        32.0        96.0         9.0        14.0        17.0        42.0   \n",
      "7        44.0        80.0        53.0        38.0       102.0        54.0   \n",
      "8        44.0        30.0        40.0        23.0        26.0        43.0   \n",
      "9        13.0        26.0        17.0        18.0        22.0        21.0   \n",
      "\n",
      "   2016-10-31  2016-11-01  \n",
      "0        16.0        30.0  \n",
      "1        24.0        13.0  \n",
      "2         6.0         1.0  \n",
      "3        22.0        15.0  \n",
      "4        20.0        11.0  \n",
      "5        23.0        26.0  \n",
      "6        17.0         7.0  \n",
      "7        41.0        77.0  \n",
      "8        42.0        19.0  \n",
      "9        27.0        23.0  \n",
      "\n",
      "[10 rows x 495 columns]\n",
      "The validation set sample:\n",
      "              topic lang      access    type  \\\n",
      "0              2NE1   zh  all-access  spider   \n",
      "1               2PM   zh  all-access  spider   \n",
      "2                3C   zh  all-access  spider   \n",
      "3           4minute   zh  all-access  spider   \n",
      "4  52_Hz_I_Love_You   zh  all-access  spider   \n",
      "5              5566   zh  all-access  spider   \n",
      "6            91Days   zh  all-access  spider   \n",
      "7             A'N'D   zh  all-access  spider   \n",
      "8             AKB48   zh  all-access  spider   \n",
      "9             ASCII   zh  all-access  spider   \n",
      "\n",
      "                                                Page  2016-11-02  2016-11-03  \\\n",
      "0            2NE1_zh.wikipedia.org_all-access_spider        18.0        25.0   \n",
      "1             2PM_zh.wikipedia.org_all-access_spider        11.0        14.0   \n",
      "2              3C_zh.wikipedia.org_all-access_spider         3.0         3.0   \n",
      "3         4minute_zh.wikipedia.org_all-access_spider        12.0        11.0   \n",
      "4  52_Hz_I_Love_You_zh.wikipedia.org_all-access_s...         5.0         6.0   \n",
      "5            5566_zh.wikipedia.org_all-access_spider        21.0        25.0   \n",
      "6          91Days_zh.wikipedia.org_all-access_spider        20.0        12.0   \n",
      "7           A'N'D_zh.wikipedia.org_all-access_spider        73.0        21.0   \n",
      "8           AKB48_zh.wikipedia.org_all-access_spider        29.0        24.0   \n",
      "9           ASCII_zh.wikipedia.org_all-access_spider        31.0        20.0   \n",
      "\n",
      "   2016-11-04  2016-11-05  2016-11-06     ...      2016-12-22  2016-12-23  \\\n",
      "0        14.0        20.0         8.0     ...            32.0        63.0   \n",
      "1        26.0        11.0        21.0     ...            17.0        42.0   \n",
      "2         3.0         2.0        10.0     ...             3.0         1.0   \n",
      "3        15.0         7.0        12.0     ...            32.0        10.0   \n",
      "4        33.0        13.0        10.0     ...            48.0         9.0   \n",
      "5        53.0        13.0        22.0     ...            16.0        27.0   \n",
      "6        10.0         5.0        87.0     ...             2.0         7.0   \n",
      "7        77.0       107.0       185.0     ...            64.0        35.0   \n",
      "8        72.0        35.0        27.0     ...            34.0       105.0   \n",
      "9        21.0        21.0        33.0     ...            25.0        17.0   \n",
      "\n",
      "   2016-12-24  2016-12-25  2016-12-26  2016-12-27  2016-12-28  2016-12-29  \\\n",
      "0        15.0        26.0        14.0        20.0        22.0        19.0   \n",
      "1        28.0        15.0         9.0        30.0        52.0        45.0   \n",
      "2         1.0         7.0         4.0         4.0         6.0         3.0   \n",
      "3        26.0        27.0        16.0        11.0        17.0        19.0   \n",
      "4        25.0        13.0         3.0        11.0        27.0        13.0   \n",
      "5         8.0        17.0        32.0        19.0        23.0        17.0   \n",
      "6        33.0         8.0        11.0         4.0        15.0         6.0   \n",
      "7        35.0        28.0        20.0        23.0        32.0        39.0   \n",
      "8        72.0        36.0        33.0        30.0        36.0        38.0   \n",
      "9        22.0        29.0        30.0        29.0        35.0        44.0   \n",
      "\n",
      "   2016-12-30  2016-12-31  \n",
      "0        18.0        20.0  \n",
      "1        26.0        20.0  \n",
      "2         4.0        17.0  \n",
      "3        10.0        11.0  \n",
      "4        36.0        10.0  \n",
      "5        17.0        50.0  \n",
      "6         8.0         6.0  \n",
      "7        32.0        17.0  \n",
      "8        31.0        97.0  \n",
      "9        26.0        41.0  \n",
      "\n",
      "[10 rows x 65 columns]\n"
     ]
    }
   ],
   "source": [
    "# Generate train and validate dataset\n",
    "train_df = pd.concat([page_details, train], axis=1)\n",
    "\n",
    "def get_train_validate_set(train_df, test_percent):\n",
    "    train_end = math.floor((train_df.shape[1]-5) * (1-test_percent))\n",
    "    train_ds = train_df.iloc[:, np.r_[0,1,2,3,4,5:train_end]]\n",
    "    test_ds = train_df.iloc[:, np.r_[0,1,2,3,4,train_end:train_df.shape[1]]]\n",
    "    \n",
    "    return train_ds, test_ds\n",
    "\n",
    "X_train, y_train = get_train_validate_set(train_df, 0.1)\n",
    "\n",
    "print(\"The training set sample:\")\n",
    "print(X_train[0:10])\n",
    "print(\"The validation set sample:\")\n",
    "print(y_train[0:10])"
   ]
  },
  {
   "cell_type": "markdown",
   "metadata": {},
   "source": [
    "## 3 Forecast methods"
   ]
  },
  {
   "cell_type": "markdown",
   "metadata": {},
   "source": [
    "### A. SMAPE, the measurement\n"
   ]
  },
  {
   "cell_type": "code",
   "execution_count": 10,
   "metadata": {
    "collapsed": true
   },
   "outputs": [],
   "source": [
    "def smape(predict, actual, debug=False):\n",
    "    '''\n",
    "    predict and actual is a panda series.\n",
    "    In this implementation I will skip all the datapoint with actual is null\n",
    "    '''\n",
    "    actual = actual.fillna(0)\n",
    "    data = pd.concat([predict, actual], axis=1, keys=['predict', 'actual'])\n",
    "    data = data[data.actual.notnull()]\n",
    "    if debug:\n",
    "        print('debug', data)\n",
    "    \n",
    "    evals = abs(data.predict - data.actual) * 1.0 / (abs(data.predict) + abs(data.actual)) * 2\n",
    "    evals[evals.isnull()] = 0\n",
    "    #print(np.sum(evals), len(data), np.sum(evals) * 1.0 / len(data))\n",
    "    \n",
    "    result = np.sum(evals) / len(data)\n",
    "    \n",
    "    return result\n",
    "\n",
    "# create testing series\n",
    "testing_series_1 = X_train.iloc[0, 5:494]\n",
    "testing_series_2 = X_train.iloc[0, 5:494].shift(-1)\n",
    "testing_series_3 = X_train.iloc[1, 5:494]\n",
    "testing_series_4 = pd.Series([0,0,0,0])"
   ]
  },
  {
   "cell_type": "code",
   "execution_count": 17,
   "metadata": {
    "collapsed": true
   },
   "outputs": [],
   "source": [
    "# 提取序列\n",
    "def extract_series(df, row_num, start_idx):\n",
    "    y = df.iloc[row_num, start_idx:]\n",
    "    df = pd.DataFrame({ 'ds': y.index, 'y': y.values})\n",
    "    return df\n",
    "\n",
    "# 实际值和预测值绘图函数\n",
    "def plot_prediction_and_actual_2(train, forecast, actual, xlim=None, ylim=None, figSize=None, title=None):\n",
    "    fig, ax  = plt.subplots(1,1,figsize=figSize)\n",
    "    ax.plot(pd.to_datetime(train.index), train.values, 'k.')\n",
    "    ax.plot(pd.to_datetime(actual.index), actual.values, 'r.')\n",
    "    ax.plot(pd.to_datetime(forecast.index), forecast.values, 'b-')\n",
    "    ax.set_title(title)\n",
    "    plt.show()"
   ]
  },
  {
   "cell_type": "markdown",
   "metadata": {},
   "source": [
    "### B. Simple median model"
   ]
  },
  {
   "cell_type": "markdown",
   "metadata": {},
   "source": [
    "### C. Median model - weekday, weekend and holiday"
   ]
  },
  {
   "cell_type": "markdown",
   "metadata": {},
   "source": [
    "### D. ARIMA model"
   ]
  },
  {
   "cell_type": "code",
   "execution_count": 11,
   "metadata": {},
   "outputs": [
    {
     "name": "stderr",
     "output_type": "stream",
     "text": [
      "C:\\Users\\shenchen3\\AppData\\Local\\Continuum\\Anaconda3\\lib\\site-packages\\statsmodels\\compat\\pandas.py:56: FutureWarning: The pandas.core.datetools module is deprecated and will be removed in a future version. Please use the pandas.tseries module instead.\n",
      "  from pandas.core import datetools\n"
     ]
    }
   ],
   "source": [
    "from statsmodels.tsa.arima_model import ARIMA   \n",
    "import warnings\n",
    "\n",
    "def arima_model(df_train, df_actual, p, d, q, figSize=(12, 4), review=False):\n",
    "    df_train = df_train.fillna(0)\n",
    "    train_series = df_train.y\n",
    "    train_series.index = df_train.ds\n",
    "\n",
    "    result = None\n",
    "    with warnings.catch_warnings():\n",
    "        warnings.filterwarnings('ignore')\n",
    "        try:\n",
    "            arima = ARIMA(train_series ,[p, d, q])\n",
    "            result = arima.fit(disp=False)\n",
    "        except Exception as e:\n",
    "            print('\\tARIMA failed', e)\n",
    "\n",
    "    #print(result.params)\n",
    "    start_idx = df_train.ds[d]\n",
    "    end_idx = df_actual.ds.max()\n",
    "    forecast_series = result.predict(start_idx, end_idx,typ='levels')\n",
    "\n",
    "    actual_series = df_actual.y\n",
    "    actual_series.index = pd.to_datetime(df_actual.ds)\n",
    "\n",
    "    if(review):\n",
    "        plot_prediction_and_actual_2(train_series, forecast_series, actual_series, figSize=figSize, title='ARIMA model')\n",
    "\n",
    "    return smape(forecast_series, actual_series)"
   ]
  },
  {
   "cell_type": "code",
   "execution_count": 16,
   "metadata": {
    "scrolled": false
   },
   "outputs": [
    {
     "name": "stdout",
     "output_type": "stream",
     "text": [
      "                                    Page  2015-07-01  2015-07-02  2015-07-03  \\\n",
      "2  3C_zh.wikipedia.org_all-access_spider         1.0         0.0         1.0   \n",
      "\n",
      "   2015-07-04  2015-07-05  2015-07-06  2015-07-07  2015-07-08  2015-07-09  \\\n",
      "2         1.0         0.0         4.0         0.0         3.0         4.0   \n",
      "\n",
      "      ...      2016-12-22  2016-12-23  2016-12-24  2016-12-25  2016-12-26  \\\n",
      "2     ...             3.0         1.0         1.0         7.0         4.0   \n",
      "\n",
      "   2016-12-27  2016-12-28  2016-12-29  2016-12-30  2016-12-31  \n",
      "2         4.0         6.0         3.0         4.0        17.0  \n",
      "\n",
      "[1 rows x 551 columns]\n"
     ]
    },
    {
     "data": {
      "image/png": "[encoded data removed]",
      "text/plain": [
       "<matplotlib.figure.Figure at 0x36ea6390>"
      ]
     },
     "metadata": {},
     "output_type": "display_data"
    },
    {
     "name": "stdout",
     "output_type": "stream",
     "text": [
      "The SMAPE score is : 0.65757\n"
     ]
    }
   ],
   "source": [
    "# This is to demo the ARIMA model\n",
    "print(train.iloc[[2]])\n",
    "\n",
    "df_train = extract_series(X_train, 2, 5)\n",
    "df_actual = extract_series(y_train, 2, 5)\n",
    "lang = X_train.iloc[2, 1]\n",
    "score = arima_model(df_train.copy(), df_actual.copy(), 2, 1, 2, review=True)\n",
    "print(\"The SMAPE score is : %.5f\" % score)"
   ]
  },
  {
   "cell_type": "code",
   "execution_count": 25,
   "metadata": {},
   "outputs": [],
   "source": [
    "df_train1 = extract_series(X_train, 2222, 5).copy()\n",
    "df_actual1 = extract_series(y_train, 2222, 5).copy()\n",
    "\n",
    "df_train1 = df_train1.fillna(0)"
   ]
  },
  {
   "cell_type": "code",
   "execution_count": 26,
   "metadata": {},
   "outputs": [
    {
     "name": "stderr",
     "output_type": "stream",
     "text": [
      "C:\\Users\\shenchen3\\AppData\\Local\\Continuum\\Anaconda3\\lib\\site-packages\\statsmodels\\base\\model.py:496: ConvergenceWarning: Maximum Likelihood optimization failed to converge. Check mle_retvals\n",
      "  \"Check mle_retvals\", ConvergenceWarning)\n"
     ]
    }
   ],
   "source": [
    "train_series = df_train1.y\n",
    "train_series.index = df_train1.ds\n",
    "arima = ARIMA(train_series ,[2, 1, 2])\n",
    "result = arima.fit(disp=False)"
   ]
  },
  {
   "cell_type": "code",
   "execution_count": 27,
   "metadata": {
    "collapsed": true
   },
   "outputs": [],
   "source": [
    "actual_series = df_actual1.y\n",
    "actual_series.index = pd.to_datetime(df_actual1.ds)"
   ]
  },
  {
   "cell_type": "code",
   "execution_count": 29,
   "metadata": {},
   "outputs": [],
   "source": [
    "start_idx = df_train.ds[1]\n",
    "end_idx = df_actual.ds.max()"
   ]
  },
  {
   "cell_type": "code",
   "execution_count": 32,
   "metadata": {},
   "outputs": [],
   "source": [
    "forecast_series = result.predict(start_idx, end_idx,typ='levels')"
   ]
  }
 ],
 "metadata": {
  "kernelspec": {
   "display_name": "Python [Root]",
   "language": "python",
   "name": "Python [Root]"
  },
  "language_info": {
   "codemirror_mode": {
    "name": "ipython",
    "version": 3
   },
   "file_extension": ".py",
   "mimetype": "text/x-python",
   "name": "python",
   "nbconvert_exporter": "python",
   "pygments_lexer": "ipython3",
   "version": "3.5.3"
  }
 },
 "nbformat": 4,
 "nbformat_minor": 2
}
