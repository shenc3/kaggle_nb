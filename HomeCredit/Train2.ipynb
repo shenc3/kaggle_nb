{
 "cells": [
  {
   "cell_type": "code",
   "execution_count": 1,
   "metadata": {
    "collapsed": true
   },
   "outputs": [],
   "source": [
    "import sys\n",
    "import pandas as pd\n",
    "import numpy as np\n",
    "import matplotlib.pyplot as plt\n",
    "import seaborn as sns\n",
    "\n",
    "%matplotlib inline\n",
    "\n",
    "import warnings\n",
    "if not sys.warnoptions:\n",
    "    warnings.simplefilter(\"ignore\")"
   ]
  },
  {
   "cell_type": "markdown",
   "metadata": {},
   "source": [
    "## 1. 获取数据"
   ]
  },
  {
   "cell_type": "code",
   "execution_count": 2,
   "metadata": {
    "collapsed": true
   },
   "outputs": [],
   "source": [
    "from pathlib import Path\n",
    "\n",
    "train = pd.read_csv(Path.cwd() / 'input' / 'application_train.csv')\n",
    "test = pd.read_csv(Path.cwd() / 'input' / 'application_test.csv')"
   ]
  },
  {
   "cell_type": "code",
   "execution_count": 143,
   "metadata": {
    "collapsed": true
   },
   "outputs": [],
   "source": [
    "sub = pd.read_csv(Path.cwd() / 'input' / 'sample_submission.csv')"
   ]
  },
  {
   "cell_type": "markdown",
   "metadata": {},
   "source": [
    "### 1.1 划分训练集和测试集"
   ]
  },
  {
   "cell_type": "code",
   "execution_count": 3,
   "metadata": {
    "collapsed": true
   },
   "outputs": [],
   "source": [
    "from sklearn.model_selection import train_test_split\n",
    "\n",
    "train_set, test_set = train_test_split(train, test_size=0.1, random_state=42)\n",
    "train_set.reset_index(inplace=True, drop=True)\n",
    "test_set.reset_index(inplace=True, drop=True)"
   ]
  },
  {
   "cell_type": "markdown",
   "metadata": {},
   "source": [
    "## 2. 数据预处理\n",
    "\n",
    "**处理过程**"
   ]
  },
  {
   "cell_type": "code",
   "execution_count": 4,
   "metadata": {
    "collapsed": true
   },
   "outputs": [],
   "source": [
    "from sklearn.ensemble import RandomForestClassifier\n",
    "from sklearn.model_selection import train_test_split\n",
    "from sklearn.metrics import roc_auc_score\n",
    "from sklearn.pipeline import Pipeline, FeatureUnion\n",
    "from sklearn.preprocessing import LabelBinarizer, LabelEncoder, OneHotEncoder, Imputer\n",
    "from sklearn.base import BaseEstimator, TransformerMixin\n",
    "\n",
    "from scipy.stats import mode"
   ]
  },
  {
   "cell_type": "markdown",
   "metadata": {},
   "source": [
    "除了target和id，特征可分为以下几组\n",
    "\n",
    "* 申请人基础信息 x14\n",
    "* 申请人的借贷信息 x3\n",
    "* 申请人和当前申请相关的数据 x20\n",
    "* 申请人的居住环境信息 x50\n",
    "    * Normalized information about building where the client lives, What is average (_AVG suffix), modus (_MODE suffix), median (_MEDI suffix) apartment size, common area, living area, age of building, number of elevators, number of entrances, state of the building, number of floor\n",
    "* 过去30天或60天的社会关系 x4\n",
    "* 客户是否提供了文件X x20\n",
    "* 申请前在Credit Bureau的查询次数 x6\n",
    "* 其他数据源 x3\n",
    "\n",
    "**total = 120**\n"
   ]
  },
  {
   "cell_type": "code",
   "execution_count": 5,
   "metadata": {
    "collapsed": true
   },
   "outputs": [],
   "source": [
    "# ID和target\n",
    "base = ['SK_ID_CURR', 'TARGET']\n",
    "# 用户信息\n",
    "info_cols = [\n",
    "    'CODE_GENDER', 'FLAG_OWN_CAR', 'FLAG_OWN_REALTY', 'CNT_CHILDREN',\n",
    "    'CNT_FAM_MEMBERS', 'AMT_INCOME_TOTAL', 'DAYS_BIRTH', 'NAME_INCOME_TYPE',\n",
    "    'NAME_EDUCATION_TYPE', 'NAME_FAMILY_STATUS', 'NAME_HOUSING_TYPE',\n",
    "    'OWN_CAR_AGE', 'ORGANIZATION_TYPE', 'OCCUPATION_TYPE'\n",
    "    ]\n",
    "# 当前申请的基础信息\n",
    "loan_cols = ['NAME_CONTRACT_TYPE', 'AMT_CREDIT', 'AMT_ANNUITY']\n",
    "# 当前申请相关信息\n",
    "app_cols = [\n",
    "    'AMT_GOODS_PRICE', 'DAYS_EMPLOYED', 'DAYS_REGISTRATION', 'DAYS_ID_PUBLISH',\n",
    "    'NAME_TYPE_SUITE', 'FLAG_MOBIL', 'FLAG_EMP_PHONE', 'FLAG_WORK_PHONE',\n",
    "    'FLAG_CONT_MOBILE', 'FLAG_PHONE', 'FLAG_EMAIL', 'WEEKDAY_APPR_PROCESS_START',\n",
    "    'HOUR_APPR_PROCESS_START', 'REG_REGION_NOT_LIVE_REGION', 'REG_REGION_NOT_WORK_REGION',\n",
    "    'LIVE_REGION_NOT_WORK_REGION', 'REG_CITY_NOT_LIVE_CITY', 'REG_CITY_NOT_WORK_CITY',\n",
    "    'LIVE_CITY_NOT_WORK_CITY', 'DAYS_LAST_PHONE_CHANGE'\n",
    "    ]\n",
    "# 申请人居住环境信息\n",
    "live_cols = [\n",
    "    'REGION_POPULATION_RELATIVE', 'REGION_RATING_CLIENT', 'REGION_RATING_CLIENT_W_CITY',\n",
    "    'APARTMENTS_AVG', 'BASEMENTAREA_AVG', 'YEARS_BEGINEXPLUATATION_AVG', 'YEARS_BUILD_AVG',\n",
    "    'COMMONAREA_AVG', 'ELEVATORS_AVG', 'ENTRANCES_AVG', 'FLOORSMAX_AVG', 'FLOORSMIN_AVG',\n",
    "    'LANDAREA_AVG', 'LIVINGAPARTMENTS_AVG', 'LIVINGAREA_AVG', 'NONLIVINGAPARTMENTS_AVG',\n",
    "    'NONLIVINGAREA_AVG', 'APARTMENTS_MODE', 'BASEMENTAREA_MODE', 'YEARS_BEGINEXPLUATATION_MODE',\n",
    "    'YEARS_BUILD_MODE', 'COMMONAREA_MODE', 'ELEVATORS_MODE', 'ENTRANCES_MODE',\n",
    "    'FLOORSMAX_MODE', 'FLOORSMIN_MODE', 'LANDAREA_MODE', 'LIVINGAPARTMENTS_MODE', 'LIVINGAREA_MODE',\n",
    "    'NONLIVINGAPARTMENTS_MODE', 'NONLIVINGAREA_MODE', 'APARTMENTS_MEDI', 'BASEMENTAREA_MEDI',\n",
    "    'YEARS_BEGINEXPLUATATION_MEDI', 'YEARS_BUILD_MEDI', 'COMMONAREA_MEDI', 'ELEVATORS_MEDI',\n",
    "    'ENTRANCES_MEDI', 'FLOORSMAX_MEDI', 'FLOORSMIN_MEDI', 'LANDAREA_MEDI', 'LIVINGAPARTMENTS_MEDI',\n",
    "    'LIVINGAREA_MEDI', 'NONLIVINGAPARTMENTS_MEDI', 'NONLIVINGAREA_MEDI', 'FONDKAPREMONT_MODE',\n",
    "    'HOUSETYPE_MODE', 'TOTALAREA_MODE', 'WALLSMATERIAL_MODE', 'EMERGENCYSTATE_MODE'\n",
    "    ]\n",
    "# Social Surroundings\n",
    "social_cols = ['OBS_30_CNT_SOCIAL_CIRCLE', 'DEF_30_CNT_SOCIAL_CIRCLE', 'OBS_60_CNT_SOCIAL_CIRCLE', 'DEF_60_CNT_SOCIAL_CIRCLE']\n",
    "# 是否提交了文件X\n",
    "doc_cols = [\n",
    "    'FLAG_DOCUMENT_2', 'FLAG_DOCUMENT_3', 'FLAG_DOCUMENT_4', 'FLAG_DOCUMENT_5',\n",
    "    'FLAG_DOCUMENT_6', 'FLAG_DOCUMENT_7', 'FLAG_DOCUMENT_8', 'FLAG_DOCUMENT_9',\n",
    "    'FLAG_DOCUMENT_10', 'FLAG_DOCUMENT_11', 'FLAG_DOCUMENT_12', 'FLAG_DOCUMENT_13',\n",
    "    'FLAG_DOCUMENT_14', 'FLAG_DOCUMENT_15', 'FLAG_DOCUMENT_16', 'FLAG_DOCUMENT_17',\n",
    "    'FLAG_DOCUMENT_18', 'FLAG_DOCUMENT_19', 'FLAG_DOCUMENT_20', 'FLAG_DOCUMENT_21'\n",
    "    ]\n",
    "# Credit Bureau查询数据\n",
    "bureau_cols = [\n",
    "    'AMT_REQ_CREDIT_BUREAU_HOUR', 'AMT_REQ_CREDIT_BUREAU_DAY',\n",
    "    'AMT_REQ_CREDIT_BUREAU_WEEK', 'AMT_REQ_CREDIT_BUREAU_MON',\n",
    "    'AMT_REQ_CREDIT_BUREAU_QRT', 'AMT_REQ_CREDIT_BUREAU_YEAR'\n",
    "    ]\n",
    "# 其他数据源\n",
    "ext_cols = ['EXT_SOURCE_1', 'EXT_SOURCE_2', 'EXT_SOURCE_3']"
   ]
  },
  {
   "cell_type": "code",
   "execution_count": 6,
   "metadata": {
    "collapsed": true
   },
   "outputs": [],
   "source": [
    "# 辅助函数\n",
    "def find_most_common(df, cat_col):\n",
    "    '''查找DataFrame中指定列的最频繁值，一般用于填充缺失值'''\n",
    "    tmp = df.groupby(cat_col)[cat_col].agg(len)\n",
    "    tmp.sort_values(ascending=False, inplace=True)\n",
    "    return tmp.index[0]\n",
    "\n",
    "def get_by_ratio(series, size):\n",
    "    '''传入一个Series，以数据值的大小为概率返回index'''\n",
    "    val_dict = {idx: val for idx, val in enumerate(series.index)}\n",
    "    np.random.seed(1)\n",
    "    dice = np.random.randint(0, series.sum(), size=size)\n",
    "    cs = series.cumsum()\n",
    "    fillvals = pd.Series(\n",
    "        np.apply_along_axis(\n",
    "            func1d=lambda x: len(x) - len(x[x]),\n",
    "            arr=(cs.values - dice[:, None]) > 0,\n",
    "            axis=1))\n",
    "    # 返回np.ndarray，排除Series赋值时index的影响\n",
    "    return fillvals.map(val_dict).values"
   ]
  },
  {
   "cell_type": "markdown",
   "metadata": {},
   "source": [
    "### 2.1 基础信息"
   ]
  },
  {
   "cell_type": "code",
   "execution_count": 81,
   "metadata": {
    "collapsed": true
   },
   "outputs": [],
   "source": [
    "class InfoImputer(BaseEstimator, TransformerMixin):\n",
    "    '''处理缺失值'''\n",
    "    def __init__(self, fill_cnt_fam_mem=1, fill_own_car_age=100.0):\n",
    "        TransformerMixin.__init__(self)\n",
    "        BaseEstimator.__init__(self)\n",
    "        self.cols = info_cols\n",
    "        self.fill_cnt_fam_mem = fill_cnt_fam_mem  # {1, 2}\n",
    "        self.fill_own_car_age = fill_own_car_age  # default: 100\n",
    "\n",
    "    def fit(self, X, y=None):\n",
    "        return self\n",
    "\n",
    "    def transform(self, X, y=None):\n",
    "        X = X[self.cols].copy()\n",
    "        # 1. 处理缺失值和异常值\n",
    "        # 1.1 OCCUPATION_TYPE\n",
    "        X['OCCUPATION_TYPE'].fillna('NA staff', inplace=True)\n",
    "        # 1.2 CNT_FAM_MEMBERS\n",
    "        X['CNT_FAM_MEMBERS'].fillna(self.fill_cnt_fam_mem, inplace=True)\n",
    "        # 1.3 OWN_CAR_AGE\n",
    "        X.loc[\n",
    "            (X['OWN_CAR_AGE'].isnull()) & (X['FLAG_OWN_CAR']=='N'),\n",
    "            'OWN_CAR_AGE'] = self.fill_own_car_age\n",
    "        X.loc[\n",
    "        (X['OWN_CAR_AGE'].isnull()) & (X['FLAG_OWN_CAR']=='Y'),\n",
    "        'OWN_CAR_AGE'] = X['OWN_CAR_AGE'].mean()\n",
    "        self.feats = X.columns\n",
    "        return X\n",
    "\n",
    "\n",
    "class CatTransformer(BaseEstimator, TransformerMixin):\n",
    "    '''处理离散值转换'''\n",
    "    def __init__(self, columns):\n",
    "        TransformerMixin.__init__(self)\n",
    "        BaseEstimator.__init__(self)\n",
    "        self.cols = columns\n",
    "\n",
    "    def fit(self, X, y=None):\n",
    "        self.encoders = {}\n",
    "        for c in X.columns[X.dtypes=='O']:\n",
    "            self.encoders[c] = LabelEncoder().fit(X[c])\n",
    "        return self\n",
    "\n",
    "    def transform(self, X, y=None):\n",
    "        # 2. 编码\n",
    "        for c in X.columns[X.dtypes=='O']:\n",
    "            X[c] = self.encoders[c].fit_transform(X[c])\n",
    "        return X\n"
   ]
  },
  {
   "cell_type": "markdown",
   "metadata": {},
   "source": [
    "### 2.2 借贷信息"
   ]
  },
  {
   "cell_type": "code",
   "execution_count": 82,
   "metadata": {
    "collapsed": true
   },
   "outputs": [],
   "source": [
    "class LoanImputer(BaseEstimator, TransformerMixin):\n",
    "    '''处理缺失值'''\n",
    "    def __init__(self):\n",
    "        TransformerMixin.__init__(self)\n",
    "        BaseEstimator.__init__(self)\n",
    "        self.cols = loan_cols\n",
    "\n",
    "    def fit(self, X, y=None):\n",
    "        self.amt_annuity_mean = X['AMT_ANNUITY'].mean()\n",
    "        return self\n",
    "\n",
    "    def transform(self, X, y=None):\n",
    "        X = X[self.cols].copy()\n",
    "        # 1. 处理缺失值和异常值\n",
    "        # 1.1 AMT_ANNUITY\n",
    "        X['AMT_ANNUITY'].fillna(self.amt_annuity_mean, inplace=True)\n",
    "        self.feats = X.columns\n",
    "        return X"
   ]
  },
  {
   "cell_type": "markdown",
   "metadata": {},
   "source": [
    "### 2.3 申请信息"
   ]
  },
  {
   "cell_type": "code",
   "execution_count": 83,
   "metadata": {
    "collapsed": true
   },
   "outputs": [],
   "source": [
    "class AppImputer(BaseEstimator, TransformerMixin):\n",
    "    '''处理缺失值'''\n",
    "    def __init__(self):\n",
    "        TransformerMixin.__init__(self)\n",
    "        BaseEstimator.__init__(self)\n",
    "        self.cols = app_cols\n",
    "\n",
    "    def fit(self, X, y=None):\n",
    "        self.name_type_suite_mode = find_most_common(X, 'NAME_TYPE_SUITE')\n",
    "        self.days_last_phone_change_mean = X['DAYS_LAST_PHONE_CHANGE'].mean()\n",
    "        self.amt_goods_price_mean = X['AMT_GOODS_PRICE'].mean()\n",
    "        return self\n",
    "\n",
    "    def transform(self, X, y=None):\n",
    "        X = X[self.cols].copy()\n",
    "        # 1. 处理缺失值和异常值\n",
    "        X['NAME_TYPE_SUITE'].fillna(self.name_type_suite_mode, inplace=True)\n",
    "        X['DAYS_LAST_PHONE_CHANGE'].fillna(self.days_last_phone_change_mean, inplace=True)\n",
    "        X['AMT_GOODS_PRICE'].fillna(self.amt_goods_price_mean, inplace=True)\n",
    "        self.feats = X.columns\n",
    "        return X"
   ]
  },
  {
   "cell_type": "markdown",
   "metadata": {},
   "source": [
    "### 2.4 居住信息"
   ]
  },
  {
   "cell_type": "code",
   "execution_count": 84,
   "metadata": {
    "collapsed": true
   },
   "outputs": [],
   "source": [
    "class LiveImputer(BaseEstimator, TransformerMixin):\n",
    "    '''处理缺失值'''\n",
    "    def __init__(self, threshold=0.5):\n",
    "        TransformerMixin.__init__(self)\n",
    "        BaseEstimator.__init__(self)\n",
    "        self.cols = live_cols\n",
    "        self.threshold = threshold\n",
    "        \n",
    "    def fit(self, X, y=None):\n",
    "        self.num_miss_rates = {}\n",
    "        self.num_cols_mean = {}\n",
    "        for c in live_cols:\n",
    "            if X[c].dtype != 'O':\n",
    "                self.num_miss_rates[c] = X[c].isnull().sum() / X.shape[0]\n",
    "                self.num_cols_mean[c] = X[c].mean()\n",
    "        return self\n",
    "\n",
    "    def transform(self, X, y=None):\n",
    "        X = X[self.cols].copy()\n",
    "        # 1. 处理缺失值和异常值\n",
    "        # 1.1 处理数值型特征\n",
    "        ret_feats = []\n",
    "        for col, rate in self.num_miss_rates.items():\n",
    "            if rate < self.threshold:\n",
    "                ret_feats.append(col)\n",
    "        for col in ret_feats:\n",
    "            X[col].fillna(self.num_cols_mean[col], inplace=True)\n",
    "        # 1.2 处理离散特征\n",
    "        cat_feats = [c for c in live_cols if X[c].dtype=='O']\n",
    "        for col in cat_feats:\n",
    "            X[col].fillna('NA', inplace=True)\n",
    "        X = X[ret_feats + cat_feats]\n",
    "        self.feats = X.columns\n",
    "        return X"
   ]
  },
  {
   "cell_type": "markdown",
   "metadata": {},
   "source": [
    "### 2.5 社交信息"
   ]
  },
  {
   "cell_type": "code",
   "execution_count": 85,
   "metadata": {
    "collapsed": true
   },
   "outputs": [],
   "source": [
    "class SocialImputer(BaseEstimator, TransformerMixin):\n",
    "    '''处理缺失值'''\n",
    "    def __init__(self, fill_social_na=0, threshold=10):\n",
    "        TransformerMixin.__init__(self)\n",
    "        BaseEstimator.__init__(self)\n",
    "        self.cols = social_cols\n",
    "        self.fill_social_na = fill_social_na\n",
    "        self.threshold = threshold\n",
    "\n",
    "    def fit(self, X, y=None):\n",
    "        return self\n",
    "\n",
    "    def transform(self, X, y=None):\n",
    "        X = X[self.cols].copy()\n",
    "        # 1. 处理缺失值和异常值\n",
    "        # 1.1 处理数值型特征\n",
    "        X.fillna(self.fill_social_na, inplace=True)\n",
    "\n",
    "        # 2. 转化离群点\n",
    "        X.loc[\n",
    "            X['OBS_30_CNT_SOCIAL_CIRCLE'] > self.threshold,\n",
    "            'OBS_30_CNT_SOCIAL_CIRCLE'] = self.threshold\n",
    "        X.loc[\n",
    "            X['OBS_60_CNT_SOCIAL_CIRCLE'] > self.threshold,\n",
    "            'OBS_60_CNT_SOCIAL_CIRCLE'] = self.threshold\n",
    "        self.feats = X.columns\n",
    "        return X"
   ]
  },
  {
   "cell_type": "markdown",
   "metadata": {},
   "source": [
    "### 2.6 提交文件信息"
   ]
  },
  {
   "cell_type": "code",
   "execution_count": 86,
   "metadata": {
    "collapsed": true
   },
   "outputs": [],
   "source": [
    "# 没有缺失值，且不需要编码\n",
    "class DocImputer(BaseEstimator, TransformerMixin):\n",
    "    '''处理缺失值'''\n",
    "    def __init__(self):\n",
    "        TransformerMixin.__init__(self)\n",
    "        BaseEstimator.__init__(self)\n",
    "        self.cols = doc_cols\n",
    "\n",
    "    def fit(self, X, y=None):\n",
    "        return self\n",
    "\n",
    "    def transform(self, X, y=None):\n",
    "        X = X[self.cols].copy()\n",
    "        self.feats = X.columns\n",
    "        return X\n"
   ]
  },
  {
   "cell_type": "markdown",
   "metadata": {},
   "source": [
    "### 2.7 Bureau查询数据"
   ]
  },
  {
   "cell_type": "code",
   "execution_count": 87,
   "metadata": {
    "collapsed": true
   },
   "outputs": [],
   "source": [
    "# 方法1：全都填充为0\n",
    "# 方法2：按比例填充, 注意设置随机种子\n",
    "class BureauImputer(BaseEstimator, TransformerMixin):\n",
    "    '''处理缺失值'''\n",
    "    def __init__(self, method='zero'):\n",
    "        TransformerMixin.__init__(self)\n",
    "        BaseEstimator.__init__(self)\n",
    "        self.cols = bureau_cols\n",
    "        self.method = method  # {'zero', 'ratio'}\n",
    "\n",
    "    def fit(self, X, y=None):\n",
    "        self.value_counts = {}\n",
    "        for c in self.cols:\n",
    "            self.value_counts[c] = X[c].value_counts()\n",
    "        return self\n",
    "\n",
    "    def transform(self, X, y=None):\n",
    "        X = X[self.cols].copy()\n",
    "        # 1. 处理缺失值和异常值\n",
    "        if self.method == 'zero':\n",
    "            for c in X.columns[X.isnull().any(axis=0)==True]:\n",
    "                X[c].fillna(0, inplace=True)\n",
    "        elif self.method == 'ratio':\n",
    "            for c in X.columns[X.isnull().any(axis=0)==True]:\n",
    "                X.loc[X[c].isnull(), c] = get_by_ratio(\n",
    "                    self.value_counts[c], X[c].isnull().sum())\n",
    "        else:\n",
    "            raise ValueError(\"Wrong method.\")\n",
    "        self.feats = X.columns\n",
    "        return X"
   ]
  },
  {
   "cell_type": "markdown",
   "metadata": {},
   "source": [
    "### 2.8 其他数据源"
   ]
  },
  {
   "cell_type": "code",
   "execution_count": 88,
   "metadata": {
    "collapsed": true
   },
   "outputs": [],
   "source": [
    "# 方法1：全都填充为0\n",
    "# 方法2：按比例填充, 注意设置随机种子\n",
    "class ExtImputer(BaseEstimator, TransformerMixin):\n",
    "    '''处理缺失值'''\n",
    "    def __init__(self):\n",
    "        TransformerMixin.__init__(self)\n",
    "        BaseEstimator.__init__(self)\n",
    "        self.cols = ext_cols\n",
    "\n",
    "    def fit(self, X, y=None):\n",
    "        self.means = {}\n",
    "        for c in self.cols:\n",
    "            self.means[c] = X[c].mean()\n",
    "        return self\n",
    "\n",
    "    def transform(self, X, y=None):\n",
    "        X = X[self.cols].copy()\n",
    "        # 1. 处理缺失值和异常值\n",
    "        for c in X.columns[X.isnull().any(axis=0)==True]:\n",
    "            X[c].fillna(self.means[c], inplace=True)\n",
    "        self.feats = X.columns\n",
    "        return X"
   ]
  },
  {
   "cell_type": "markdown",
   "metadata": {},
   "source": [
    "### ALL in One"
   ]
  },
  {
   "cell_type": "code",
   "execution_count": 89,
   "metadata": {
    "collapsed": true
   },
   "outputs": [],
   "source": [
    "pre_pipe = FeatureUnion(\n",
    "    transformer_list=[\n",
    "        ('info', Pipeline([\n",
    "                ('impute', InfoImputer()),\n",
    "                ('transform', CatTransformer(info_cols))\n",
    "            ])),\n",
    "        ('loan', Pipeline([\n",
    "            ('impute', LoanImputer()),\n",
    "            ('transform', CatTransformer(loan_cols))\n",
    "            ])),\n",
    "        ('app', Pipeline([\n",
    "            ('impute', AppImputer()),\n",
    "            ('transform', CatTransformer(app_cols))\n",
    "            ])),\n",
    "        ('live', Pipeline([\n",
    "            ('impute', LiveImputer()),\n",
    "            ('transform', CatTransformer(live_cols))\n",
    "            ])),\n",
    "        ('social', SocialImputer()),\n",
    "        ('doc', DocImputer()),\n",
    "        ('bureau', BureauImputer()),\n",
    "        ('ext', ExtImputer())\n",
    "    ])"
   ]
  },
  {
   "cell_type": "markdown",
   "metadata": {},
   "source": [
    "## 3. 训练"
   ]
  },
  {
   "cell_type": "code",
   "execution_count": 16,
   "metadata": {
    "collapsed": true
   },
   "outputs": [],
   "source": [
    "from sklearn.model_selection import train_test_split\n",
    "from sklearn.metrics import accuracy_score, roc_auc_score\n",
    "from lightgbm import LGBMClassifier"
   ]
  },
  {
   "cell_type": "code",
   "execution_count": 90,
   "metadata": {
    "collapsed": true
   },
   "outputs": [],
   "source": [
    "# 模型\n",
    "lgbm = LGBMClassifier(\n",
    "    n_estimators=250,\n",
    "    objective='binary'\n",
    "    )\n",
    "pipe = Pipeline([\n",
    "    ('preprocessing', pre_pipe),\n",
    "    ('clf', lgbm)])"
   ]
  },
  {
   "cell_type": "code",
   "execution_count": 42,
   "metadata": {
    "collapsed": true
   },
   "outputs": [],
   "source": [
    "X = train_set.drop(['SK_ID_CURR', 'TARGET'], axis=1)\n",
    "target = train_set['TARGET']\n",
    "X_train, X_test, y_train, y_test = train_test_split(\n",
    "    X, target, test_size=0.1, random_state=2)"
   ]
  },
  {
   "cell_type": "code",
   "execution_count": 91,
   "metadata": {},
   "outputs": [
    {
     "data": {
      "text/plain": [
       "Pipeline(memory=None,\n",
       "     steps=[('preprocessing', FeatureUnion(n_jobs=1,\n",
       "       transformer_list=[('info', Pipeline(memory=None,\n",
       "     steps=[('impute', InfoImputer(fill_cnt_fam_mem=1, fill_own_car_age=100.0)), ('transform', CatTransformer(columns=None))])), ('loan', Pipeline(memory=None,\n",
       "     steps=[('impute', LoanImputer()...da=0,\n",
       "        seed=0, silent=True, subsample=1, subsample_for_bin=50000,\n",
       "        subsample_freq=1))])"
      ]
     },
     "execution_count": 91,
     "metadata": {},
     "output_type": "execute_result"
    }
   ],
   "source": [
    "pipe.fit(X_train, y_train)"
   ]
  },
  {
   "cell_type": "code",
   "execution_count": 44,
   "metadata": {},
   "outputs": [
    {
     "name": "stderr",
     "output_type": "stream",
     "text": [
      "E:\\Anaconda3\\lib\\site-packages\\sklearn\\preprocessing\\label.py:151: DeprecationWarning: The truth value of an empty array is ambiguous. Returning False, but in future this will result in an error. Use `array.size > 0` to check that an array is not empty.\n",
      "  if diff:\n"
     ]
    },
    {
     "name": "stdout",
     "output_type": "stream",
     "text": [
      "训练acc 0.9218212403094551\n"
     ]
    },
    {
     "name": "stderr",
     "output_type": "stream",
     "text": [
      "E:\\Anaconda3\\lib\\site-packages\\sklearn\\preprocessing\\label.py:151: DeprecationWarning: The truth value of an empty array is ambiguous. Returning False, but in future this will result in an error. Use `array.size > 0` to check that an array is not empty.\n",
      "  if diff:\n"
     ]
    },
    {
     "name": "stdout",
     "output_type": "stream",
     "text": [
      "验证acc 0.9197138314785374\n",
      "训练AUC 0.82709648520703\n",
      "验证AUC 0.7568576064885845\n"
     ]
    }
   ],
   "source": [
    "print(\"训练acc\", accuracy_score(pipe.predict(X_train), y_train))\n",
    "print(\"验证acc\", accuracy_score(pipe.predict(X_test), y_test))\n",
    "print(\"训练AUC\", roc_auc_score(y_train, pipe.predict_proba(X_train)[:, 1]))\n",
    "print(\"验证AUC\", roc_auc_score(y_test, pipe.predict_proba(X_test)[:, 1]))"
   ]
  },
  {
   "cell_type": "markdown",
   "metadata": {},
   "source": [
    "### 3.2 特征重要性"
   ]
  },
  {
   "cell_type": "code",
   "execution_count": 100,
   "metadata": {
    "collapsed": true
   },
   "outputs": [],
   "source": [
    "feats = []\n",
    "for item in pipe.get_params()['preprocessing__transformer_list']:\n",
    "    if isinstance(item[1], Pipeline):\n",
    "        feats = feats + item[1].get_params()['impute'].feats.tolist()\n",
    "    else:\n",
    "        feats = feats + item[1].feats.tolist()"
   ]
  },
  {
   "cell_type": "code",
   "execution_count": 117,
   "metadata": {
    "collapsed": true
   },
   "outputs": [],
   "source": [
    "feats_imp = pd.DataFrame({\n",
    "    'feat': feats,\n",
    "    'score': pipe.named_steps['clf'].feature_importances_\n",
    "    })\n",
    "feats_imp.sort_values(by='score', ascending=False, inplace=True)"
   ]
  },
  {
   "cell_type": "code",
   "execution_count": 122,
   "metadata": {},
   "outputs": [
    {
     "data": {
      "text/plain": [
       "<matplotlib.axes._subplots.AxesSubplot at 0x16100873400>"
      ]
     },
     "execution_count": 122,
     "metadata": {},
     "output_type": "execute_result"
    },
    {
     "data": {
      "image/png": "[encoded data removed]",
      "text/plain": [
       "<Figure size 720x576 with 1 Axes>"
      ]
     },
     "metadata": {},
     "output_type": "display_data"
    }
   ],
   "source": [
    "fig, ax = plt.subplots(figsize=(10, 8))\n",
    "sns.barplot(x='score', y='feat', data=feats_imp.iloc[:20])"
   ]
  },
  {
   "cell_type": "markdown",
   "metadata": {},
   "source": [
    "## 4. 提交"
   ]
  },
  {
   "cell_type": "code",
   "execution_count": 176,
   "metadata": {
    "collapsed": true
   },
   "outputs": [],
   "source": [
    "pred = pipe.predict_proba(test)[:, 1]"
   ]
  },
  {
   "cell_type": "code",
   "execution_count": 177,
   "metadata": {
    "collapsed": true
   },
   "outputs": [],
   "source": [
    "sub = pd.DataFrame({\n",
    "    'SK_ID_CURR': test.SK_ID_CURR,\n",
    "    'TARGET': pred})"
   ]
  },
  {
   "cell_type": "code",
   "execution_count": 178,
   "metadata": {
    "collapsed": true
   },
   "outputs": [],
   "source": [
    "sub_path = Path.cwd() / 'sub' / '20180804-1.csv'\n",
    "sub.to_csv(sub_path, index=False)"
   ]
  }
 ],
 "metadata": {
  "kernelspec": {
   "display_name": "Python 3",
   "language": "python",
   "name": "python3"
  },
  "language_info": {
   "codemirror_mode": {
    "name": "ipython",
    "version": 3
   },
   "file_extension": ".py",
   "mimetype": "text/x-python",
   "name": "python",
   "nbconvert_exporter": "python",
   "pygments_lexer": "ipython3",
   "version": "3.6.6"
  }
 },
 "nbformat": 4,
 "nbformat_minor": 2
}
