{
 "cells": [
  {
   "cell_type": "markdown",
   "metadata": {},
   "source": [
    "## import part"
   ]
  },
  {
   "cell_type": "code",
   "execution_count": 1,
   "metadata": {
    "collapsed": true
   },
   "outputs": [],
   "source": [
    "import glob, re\n",
    "import numpy as np\n",
    "import pandas as pd\n",
    "\n",
    "from datetime import datetime\n",
    "from sklearn.preprocessing import LabelEncoder\n",
    "from sklearn.ensemble import GradientBoostingRegressor\n",
    "from sklearn.neighbors import KNeighborsRegressor\n",
    "from sklearn import metrics\n"
   ]
  },
  {
   "cell_type": "markdown",
   "metadata": {},
   "source": [
    "## Init"
   ]
  },
  {
   "cell_type": "code",
   "execution_count": 2,
   "metadata": {},
   "outputs": [
    {
     "name": "stdout",
     "output_type": "stream",
     "text": [
      "Init.\n"
     ]
    }
   ],
   "source": [
    "\n",
    "data = {\n",
    "    'tra': pd.read_csv('./data/air_visit_data.csv'),\n",
    "    'as': pd.read_csv('./data/air_store_info.csv'),\n",
    "    'hs': pd.read_csv('./data/hpg_store_info.csv'),\n",
    "    'ar': pd.read_csv('./data/air_reserve.csv'),\n",
    "    'hr': pd.read_csv('./data/hpg_reserve.csv'),\n",
    "    'id': pd.read_csv('./data/store_id_relation.csv'),\n",
    "    'tes': pd.read_csv('./data/sample_submission.csv'),\n",
    "    'hol': pd.read_csv('./data/date_info.csv').rename(columns={'calendar_date':'visit_date'})\n",
    "    }\n",
    "\n",
    "# 初始处理:\n",
    "#       1. 从tes数据id中提取air_store_id和visit_datetime\n",
    "#       2. 在HPG预订信息中匹配air_store_id\n",
    "#       2. 转换visit_datetime和reserve_datetime为时间格式\n",
    "print(\"Init.\")\n",
    "# 1.\n",
    "data['tes']['visit_date'] = data['tes']['id'].map(lambda x: str(x).split('_')[2])\n",
    "data['tes']['air_store_id'] = data['tes']['id'].map(lambda x: '_'.join(x.split('_')[:2]))\n",
    "# 2.\n",
    "data['hr'] = pd.merge(data['hr'], data['id'], how='inner', on=['hpg_store_id'])\n",
    "# 3.\n",
    "for k in data:\n",
    "    if 'visit_date' in data[k].columns:\n",
    "        data[k]['visit_date'] = pd.to_datetime(data[k]['visit_date'])\n",
    "    if 'visit_datetime' in data[k].columns:\n",
    "        data[k]['visit_date'] = pd.to_datetime(data[k]['visit_datetime'].str.split().str[0])\n",
    "        data[k].drop('visit_datetime', axis=1, inplace=True)\n",
    "    if 'reserve_datetime' in data[k].columns:\n",
    "        data[k]['reserve_date'] = pd.to_datetime(data[k]['reserve_datetime'].str.split().str[0])\n",
    "        data[k].drop('reserve_datetime', axis=1, inplace=True)\n"
   ]
  },
  {
   "cell_type": "markdown",
   "metadata": {},
   "source": [
    "## 定义特征抽取函数"
   ]
  },
  {
   "cell_type": "code",
   "execution_count": 3,
   "metadata": {
    "collapsed": true
   },
   "outputs": [],
   "source": [
    "# 为df加上时间标记: dow, month, year, date\n",
    "def time_feats(df, dt_col='visit_date'):\n",
    "    df[dt_col] = pd.to_datetime(df[dt_col])\n",
    "    df.loc[:, 'dow'] = df[dt_col].dt.dayofweek\n",
    "    df.loc[:, 'month'] = df[dt_col].dt.month\n",
    "    df.loc[:, 'season'] = df[dt_col].dt.quarter\n",
    "    df.loc[:, 'week'] = df[dt_col].dt.weekofyear\n",
    "    return df\n",
    "\n",
    "# 预订数据特征\n",
    "# WARNING: 测试数据中没有reserve数据, 只有reserve_visit数据 \n",
    "def order_feats(order):\n",
    "    '''\n",
    "    Return:\n",
    "    -----\n",
    "    `air_store_id`, `visit_date`, ...\n",
    "    '''\n",
    "    # 创建新特征datetime_diff: 表示到店时间和预订时间的差值\n",
    "    order['reserve_date_diff'] = order.apply(\n",
    "        lambda r: (r['visit_date'] - r['reserve_date']).days,\n",
    "        axis=1)\n",
    "\n",
    "    # 以(air_store_id, visit_date)为分组计算预订时间差和预订人数的总和(sum: tmp1)与均值(mean: tmp2)\n",
    "    tmp1 = order.groupby(['air_store_id','visit_date'],\n",
    "        as_index=False)[['reserve_date_diff', 'reserve_visitors']].sum().rename(\n",
    "        columns={'visit_date':'visit_date', 'reserve_date_diff': 'rs1', 'reserve_visitors':'rv1'})\n",
    "    tmp2 = order.groupby(['air_store_id','visit_date'],\n",
    "        as_index=False)[['reserve_date_diff', 'reserve_visitors']].mean().rename(\n",
    "        columns={'visit_date':'visit_date', 'reserve_date_diff': 'rs2', 'reserve_visitors':'rv2'})\n",
    "    order = pd.merge(tmp1, tmp2, how='inner', on=['air_store_id','visit_date'])\n",
    "    return order\n",
    "\n",
    "\n",
    "# 以(air_store_id, dow)为分组，计算visitors的最小值，均值，中位数，最大值，样本大小\n",
    "# 主要计算了时间（dow）相关的信息\n",
    "def store_x_dow(tra, tes):\n",
    "    '''\n",
    "    Return:\n",
    "    -----\n",
    "    `air_store_id`, `dow`, ...\n",
    "    '''\n",
    "    unique_stores = tes['air_store_id'].unique()\n",
    "    stores = pd.concat([pd.DataFrame({'air_store_id': unique_stores,\n",
    "                                      'dow': [i]*len(unique_stores)}) for i in range(7)],\n",
    "                        axis=0, ignore_index=True).reset_index(drop=True)\n",
    "\n",
    "    tmp = tra.groupby(['air_store_id','dow']).agg(\n",
    "        {'visitors': [np.min,np.mean,np.median,np.max,np.size]}).reset_index()\n",
    "    tmp.columns = ['air_store_id', 'dow', 'min_visitors', 'mean_visitors',\n",
    "                   'median_visitors','max_visitors','count_observations']\n",
    "    stores = pd.merge(stores, tmp, how='left', on=['air_store_id','dow'])\n",
    "    return stores\n",
    "\n",
    "\n",
    "def genre_feats(store_info):\n",
    "    '''\n",
    "    Return:\n",
    "    -----\n",
    "    `air_store_id`, ...\n",
    "    '''\n",
    "    store_info['air_genre_name'] = store_info['air_genre_name'].map(\n",
    "        lambda x: str(str(x).replace('/',' ')))\n",
    "\n",
    "    lbl = LabelEncoder()\n",
    "    max_genre = np.max((store_info['air_genre_name'].str.split().apply(lambda x: len(x))))\n",
    "    for i in range(max_genre):\n",
    "        store_info['air_genre_name'+str(i)] = lbl.fit_transform(store_info['air_genre_name'].map(\n",
    "            lambda x: str(str(x).split(' ')[i]) if len(str(x).split(' '))>i else ''))\n",
    "    store_info['air_genre_name'] = lbl.fit_transform(store_info['air_genre_name'])\n",
    "    return store_info\n",
    "\n",
    "\n",
    "def area_feats(store_info):\n",
    "    '''\n",
    "    Return:\n",
    "    -----\n",
    "    `air_store_id`, ...\n",
    "    '''\n",
    "    store_info['air_area_name'] = store_info['air_area_name'].map(lambda x: str(str(x).replace('-',' ')))\n",
    "\n",
    "    lbl = LabelEncoder()\n",
    "    max_area = np.max((store_info['air_area_name'].str.split().apply(lambda x: len(x))))\n",
    "    for i in range(max_area):\n",
    "        store_info['air_area_name'+str(i)] = lbl.fit_transform(store_info['air_area_name'].map(\n",
    "            lambda x: str(str(x).split(' ')[i]) if len(str(x).split(' '))>i else ''))\n",
    "    store_info['air_area_name'] = lbl.fit_transform(store_info['air_area_name'])\n",
    "    return store_info\n",
    "\n",
    "\n",
    "def holiday_feats(holiday):\n",
    "    '''\n",
    "    Return:\n",
    "    -----\n",
    "    `visit_date`, ...\n",
    "    '''\n",
    "    tmp = holiday.drop('day_of_week', axis=1)\n",
    "    return tmp\n"
   ]
  },
  {
   "cell_type": "markdown",
   "metadata": {},
   "source": [
    "## 特征工程"
   ]
  },
  {
   "cell_type": "code",
   "execution_count": 4,
   "metadata": {},
   "outputs": [
    {
     "name": "stdout",
     "output_type": "stream",
     "text": [
      "Processing order data...\n",
      "Processing store X dow...\n",
      "Processing genre_feats...\n",
      "Processing area_feats...\n",
      "Processing holiday_feats...\n",
      "Processing order data...\n",
      "Processing store X dow...\n",
      "Processing genre_feats...\n",
      "Processing area_feats...\n",
      "Processing holiday_feats...\n"
     ]
    }
   ],
   "source": [
    "\n",
    "train = time_feats(data['tra'])\n",
    "test = time_feats(data['tes'])\n",
    "\n",
    "for df in [train, test]:\n",
    "    print(\"Processing order data...\")\n",
    "    df = pd.merge(df, order_feats(data['ar']), how='left', on=['air_store_id', 'visit_date'])\n",
    "    df = pd.merge(df, order_feats(data['hr']), how='left', on=['air_store_id', 'visit_date'])\n",
    "    print(\"Processing store X dow...\")\n",
    "    df = pd.merge(df, store_x_dow(data['tra'], data['tes']), how='left', on=['air_store_id', 'dow'])\n",
    "    print(\"Processing genre_feats...\")\n",
    "    df = pd.merge(df, genre_feats(data['as']), how='left', on=['air_store_id'])\n",
    "    print(\"Processing area_feats...\")\n",
    "    df = pd.merge(df, area_feats(data['as']), how='left', on=['air_store_id'])\n",
    "    print(\"Processing holiday_feats...\")\n",
    "    df = pd.merge(df, holiday_feats(data['hol']), how='left', on=['visit_date'])\n",
    "    df.fillna(0)\n"
   ]
  },
  {
   "cell_type": "markdown",
   "metadata": {},
   "source": [
    "## Model and Predict"
   ]
  },
  {
   "cell_type": "code",
   "execution_count": 5,
   "metadata": {},
   "outputs": [
    {
     "name": "stdout",
     "output_type": "stream",
     "text": [
      "Modeling...\n",
      "Training...\n",
      "RMSE GradientBoostingRegressor:  0.78971113564\n",
      "RMSE KNeighborsRegressor:  0.879746115815\n"
     ]
    }
   ],
   "source": [
    "col = [c for c in train if c not in ['id', 'air_store_id', 'visit_date','visitors']]\n",
    "def RMSLE(y, pred):\n",
    "    return metrics.mean_squared_error(y, pred)**0.5\n",
    "\n",
    "print(\"Modeling...\")\n",
    "model1 = GradientBoostingRegressor(learning_rate=0.2, random_state=3)\n",
    "model2 = KNeighborsRegressor(n_jobs=-1, n_neighbors=4)\n",
    "print(\"Training...\")\n",
    "model1.fit(train[col], np.log1p(train['visitors'].values))\n",
    "model2.fit(train[col], np.log1p(train['visitors'].values))\n",
    "print('RMSE GradientBoostingRegressor: ', RMSLE(np.log1p(train['visitors'].values), model1.predict(train[col])))\n",
    "print('RMSE KNeighborsRegressor: ', RMSLE(np.log1p(train['visitors'].values), model2.predict(train[col])))\n"
   ]
  }
 ],
 "metadata": {
  "kernelspec": {
   "display_name": "Python 3",
   "language": "python",
   "name": "python3"
  },
  "language_info": {
   "codemirror_mode": {
    "name": "ipython",
    "version": 3
   },
   "file_extension": ".py",
   "mimetype": "text/x-python",
   "name": "python",
   "nbconvert_exporter": "python",
   "pygments_lexer": "ipython3",
   "version": "3.6.3"
  }
 },
 "nbformat": 4,
 "nbformat_minor": 2
}
